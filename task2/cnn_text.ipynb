{
 "cells": [
  {
   "cell_type": "code",
   "execution_count": 1,
   "metadata": {},
   "outputs": [],
   "source": [
    "import torch\n",
    "import numpy as np\n",
    "import os\n",
    "import torch.nn.functional as F\n",
    "import matplotlib.pyplot as plt"
   ]
  },
  {
   "cell_type": "code",
   "execution_count": 2,
   "metadata": {},
   "outputs": [],
   "source": [
    "def load_data(file_name):\n",
    "    dataMat = []\n",
    "    labelMat = []\n",
    "    fr = open(file_name)\n",
    "    for line in fr.readlines()[1:]:\n",
    "        line = line.strip().split()\n",
    "        dataMat.append([line[0], line[1], ' '.join(line[2:-1])])\n",
    "        labelMat.append(line[-1])\n",
    "    return dataMat, labelMat"
   ]
  },
  {
   "cell_type": "code",
   "execution_count": 3,
   "metadata": {},
   "outputs": [],
   "source": [
    "def create_dic(dataMat):\n",
    "    Dict = []\n",
    "    for line in dataMat:\n",
    "        line = line[2].split()\n",
    "        for element in line:\n",
    "            if element not in Dict and element not in [',', '.']:\n",
    "                Dict.append(element)\n",
    "    return Dict"
   ]
  },
  {
   "cell_type": "code",
   "execution_count": 4,
   "metadata": {},
   "outputs": [],
   "source": [
    "def create_vector(dict_, dataMat):\n",
    "    m = len(dataMat)\n",
    "    n = len(dict_)\n",
    "    dataMatrix = np.zeros((m, n))\n",
    "    for i in range(m):\n",
    "        line = dataMat[i][2].strip().split()\n",
    "        for word in line:\n",
    "            if word not in dict_:\n",
    "                continue\n",
    "            if word not in [',', '.']:\n",
    "                dataMatrix[i][dict_.index(word)] = 1\n",
    "    return dataMatrix"
   ]
  },
  {
   "cell_type": "code",
   "execution_count": 5,
   "metadata": {},
   "outputs": [],
   "source": [
    "dataMat, labelMat = load_data('train.tsv')\n",
    "labelMat = [int(x) for x in labelMat]\n",
    "y = np.zeros((len(dataMat), 5))\n",
    "for i in range(len(dataMat)):\n",
    "    y[i][labelMat[i]-1] = 1\n",
    "testMat, _ = load_data('test.tsv')"
   ]
  },
  {
   "cell_type": "code",
   "execution_count": 6,
   "metadata": {},
   "outputs": [],
   "source": [
    "if os.path.exists('dict.txt'):\n",
    "    fr = open('dict.txt', 'r')\n",
    "    Dict = fr.readline().strip().split()\n",
    "else:\n",
    "    Dict = create_dic(dataMat)\n",
    "    fw = open('dict.txt', 'w')\n",
    "    fw.write(' '.join(Dict))\n",
    "\n",
    "dataMatrix = create_vector(Dict, dataMat)\n",
    "testMatrix = create_vector(Dict, testMat)"
   ]
  },
  {
   "cell_type": "code",
   "execution_count": 7,
   "metadata": {},
   "outputs": [
    {
     "name": "stdout",
     "output_type": "stream",
     "text": [
      "[[1. 1. 1. ... 0. 0. 0.]\n",
      " [1. 1. 1. ... 0. 0. 0.]\n",
      " [1. 1. 0. ... 0. 0. 0.]\n",
      " ...\n",
      " [0. 0. 0. ... 0. 1. 1.]\n",
      " [0. 0. 0. ... 0. 1. 0.]\n",
      " [0. 0. 0. ... 0. 0. 1.]] (66292, 18224)\n"
     ]
    }
   ],
   "source": [
    "print(dataMatrix, testMatrix.shape)"
   ]
  },
  {
   "cell_type": "code",
   "execution_count": 18,
   "metadata": {},
   "outputs": [],
   "source": [
    "x = torch.from_numpy(dataMatrix).float()\n",
    "y = torch.tensor(labelMat)"
   ]
  },
  {
   "cell_type": "code",
   "execution_count": 19,
   "metadata": {},
   "outputs": [
    {
     "name": "stdout",
     "output_type": "stream",
     "text": [
      "torch.Size([156060, 18224]) torch.Size([156060])\n",
      "tensor(1.)\n",
      "<class 'torch.Tensor'> <class 'torch.Tensor'>\n",
      "<class 'torch.Tensor'> <class 'torch.Tensor'>\n"
     ]
    }
   ],
   "source": [
    "print(x.shape, y.shape)\n",
    "print(x[0][0])\n",
    "print(type(x), type(y))\n",
    "print(type(x[0][0]), type(y[0]))"
   ]
  },
  {
   "cell_type": "code",
   "execution_count": 10,
   "metadata": {},
   "outputs": [],
   "source": [
    "class Net(torch.nn.Module):\n",
    "    def __init__(self, n_feature, n_hidden, n_output):\n",
    "        super(Net, self).__init__()\n",
    "        self.hidden = torch.nn.Linear(n_feature, n_hidden)\n",
    "        self.out = torch.nn.Linear(n_hidden, n_output)\n",
    "        \n",
    "    def forward(self, x):\n",
    "        x = torch.relu(self.hidden(x))\n",
    "        x = self.out(x)\n",
    "        return x"
   ]
  },
  {
   "cell_type": "code",
   "execution_count": 21,
   "metadata": {},
   "outputs": [
    {
     "name": "stdout",
     "output_type": "stream",
     "text": [
      "Net(\n",
      "  (hidden): Linear(in_features=18224, out_features=5000, bias=True)\n",
      "  (out): Linear(in_features=5000, out_features=5, bias=True)\n",
      ")\n"
     ]
    }
   ],
   "source": [
    "net = Net(n_feature=18224, n_hidden=5000, n_output=5)\n",
    "print(net)"
   ]
  },
  {
   "cell_type": "code",
   "execution_count": 22,
   "metadata": {},
   "outputs": [],
   "source": [
    "optimizer = torch.optim.SGD(net.parameters(), lr=0.5)\n",
    "loss_func = torch.nn.CrossEntropyLoss()"
   ]
  },
  {
   "cell_type": "code",
   "execution_count": null,
   "metadata": {},
   "outputs": [
    {
     "name": "stdout",
     "output_type": "stream",
     "text": [
      "0 :  tensor(1.6071, grad_fn=<NllLossBackward>)\n",
      "1 :  tensor(1.5277, grad_fn=<NllLossBackward>)\n"
     ]
    }
   ],
   "source": [
    "for t in range(100):\n",
    "    out = net(x)\n",
    "    loss = loss_func(out, y)\n",
    "    \n",
    "    optimizer.zero_grad()\n",
    "    loss.backward()\n",
    "    optimizer.step()\n",
    "    \n",
    "    print(t, ': ', loss)"
   ]
  },
  {
   "cell_type": "code",
   "execution_count": null,
   "metadata": {},
   "outputs": [],
   "source": []
  }
 ],
 "metadata": {
  "kernelspec": {
   "display_name": "Python 3",
   "language": "python",
   "name": "python3"
  },
  "language_info": {
   "codemirror_mode": {
    "name": "ipython",
    "version": 3
   },
   "file_extension": ".py",
   "mimetype": "text/x-python",
   "name": "python",
   "nbconvert_exporter": "python",
   "pygments_lexer": "ipython3",
   "version": "3.7.3"
  }
 },
 "nbformat": 4,
 "nbformat_minor": 2
}
